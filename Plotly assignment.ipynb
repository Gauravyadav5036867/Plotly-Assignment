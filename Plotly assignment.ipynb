{
 "cells": [
  {
   "cell_type": "code",
   "execution_count": null,
   "id": "544a125d-e521-4ef3-bc6b-48dc5ac06c05",
   "metadata": {},
   "outputs": [],
   "source": [
    "#Question 1\n",
    "\n",
    "import seaborn as sns\n",
    "import plotly.express as px\n",
    "\n",
    "\n",
    "titanic_data = sns.load_dataset(\"titanic\")\n",
    "\n",
    "\n",
    "fig = px.scatter(titanic_data, x='age', y='fare', title='Scatter Plot of Age vs Fare in Titanic Dataset',\n",
    "                 labels={'age': 'Age', 'fare': 'Fare'})\n",
    "\n",
    "\n",
    "fig.show()\n"
   ]
  },
  {
   "cell_type": "code",
   "execution_count": null,
   "id": "f23a2f66-f72e-4b03-8ed6-074e4a9ce017",
   "metadata": {},
   "outputs": [],
   "source": [
    "#Question 2\n",
    "\n",
    "import plotly.express as px\n",
    "\n",
    "\n",
    "tips_data = px.data.tips()\n",
    "\n",
    "\n",
    "fig = px.box(tips_data, x='day', y='total_bill', title='Box Plot of Total Bill by Day',\n",
    "             labels={'day': 'Day of Week', 'total_bill': 'Total Bill'})\n",
    "\n",
    "\n",
    "fig.show()\n"
   ]
  },
  {
   "cell_type": "code",
   "execution_count": null,
   "id": "18680daf-25de-48ed-8f59-5e1364d89dbd",
   "metadata": {},
   "outputs": [],
   "source": [
    "#Question 3\n",
    "\n",
    "import plotly.express as px\n",
    "\n",
    "\n",
    "tips_data = px.data.tips()\n",
    "\n",
    "\n",
    "fig = px.histogram(tips_data, x='sex', y='total_bill', color='day', \n",
    "                   pattern_shape='smoker', title='Histogram of Total Bill by Sex',\n",
    "                   labels={'sex': 'Sex', 'total_bill': 'Total Bill'})\n",
    "\n",
    "fig.show()\n"
   ]
  },
  {
   "cell_type": "code",
   "execution_count": null,
   "id": "53deca88-15e3-4c8c-8fef-54d21da0eb40",
   "metadata": {},
   "outputs": [],
   "source": [
    "#Question 4\n",
    "\n",
    "import plotly.express as px\n",
    "\n",
    "\n",
    "iris_data = px.data.iris()\n",
    "\n",
    "\n",
    "fig = px.scatter_matrix(iris_data, dimensions=['sepal_length', 'sepal_width', 'petal_length', 'petal_width'],\n",
    "                        color='species', title='Scatter Matrix Plot of Iris Dataset',\n",
    "                        labels={'species': 'Species'})\n",
    "\n",
    "\n",
    "fig.update_layout(height=800, width=800)\n",
    "\n",
    "# Show the plot\n",
    "fig.show()\n"
   ]
  }
 ],
 "metadata": {
  "kernelspec": {
   "display_name": "Python 3 (ipykernel)",
   "language": "python",
   "name": "python3"
  },
  "language_info": {
   "codemirror_mode": {
    "name": "ipython",
    "version": 3
   },
   "file_extension": ".py",
   "mimetype": "text/x-python",
   "name": "python",
   "nbconvert_exporter": "python",
   "pygments_lexer": "ipython3",
   "version": "3.10.8"
  }
 },
 "nbformat": 4,
 "nbformat_minor": 5
}
